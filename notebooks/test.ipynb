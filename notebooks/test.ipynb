{
 "cells": [
  {
   "cell_type": "code",
   "execution_count": 1,
   "metadata": {},
   "outputs": [
    {
     "data": {
      "text/html": [
       "<div><style>\n",
       ".dataframe > thead > tr > th,\n",
       ".dataframe > tbody > tr > td {\n",
       "  text-align: right;\n",
       "  white-space: pre-wrap;\n",
       "}\n",
       "</style>\n",
       "<small>shape: (5, 4)</small><table border=\"1\" class=\"dataframe\"><thead><tr><th>A</th><th>fruits</th><th>B</th><th>cars</th></tr><tr><td>i64</td><td>str</td><td>i64</td><td>str</td></tr></thead><tbody><tr><td>1</td><td>&quot;banana&quot;</td><td>5</td><td>&quot;beetle&quot;</td></tr><tr><td>2</td><td>&quot;banana&quot;</td><td>4</td><td>&quot;audi&quot;</td></tr><tr><td>3</td><td>&quot;apple&quot;</td><td>3</td><td>&quot;beetle&quot;</td></tr><tr><td>4</td><td>&quot;apple&quot;</td><td>2</td><td>&quot;beetle&quot;</td></tr><tr><td>5</td><td>&quot;banana&quot;</td><td>1</td><td>&quot;beetle&quot;</td></tr></tbody></table></div>"
      ],
      "text/plain": [
       "shape: (5, 4)\n",
       "┌─────┬────────┬─────┬────────┐\n",
       "│ A   ┆ fruits ┆ B   ┆ cars   │\n",
       "│ --- ┆ ---    ┆ --- ┆ ---    │\n",
       "│ i64 ┆ str    ┆ i64 ┆ str    │\n",
       "╞═════╪════════╪═════╪════════╡\n",
       "│ 1   ┆ banana ┆ 5   ┆ beetle │\n",
       "│ 2   ┆ banana ┆ 4   ┆ audi   │\n",
       "│ 3   ┆ apple  ┆ 3   ┆ beetle │\n",
       "│ 4   ┆ apple  ┆ 2   ┆ beetle │\n",
       "│ 5   ┆ banana ┆ 1   ┆ beetle │\n",
       "└─────┴────────┴─────┴────────┘"
      ]
     },
     "execution_count": 1,
     "metadata": {},
     "output_type": "execute_result"
    }
   ],
   "source": [
    "import polars as pl\n",
    "df = pl.DataFrame(\n",
    "   {\n",
    "       \"A\": [1, 2, 3, 4, 5],\n",
    "       \"fruits\": [\"banana\", \"banana\", \"apple\", \"apple\", \"banana\"],\n",
    "       \"B\": [5, 4, 3, 2, 1],\n",
    "       \"cars\": [\"beetle\", \"audi\", \"beetle\", \"beetle\", \"beetle\"],\n",
    "   }\n",
    ")\n",
    "df\n"
   ]
  },
  {
   "cell_type": "code",
   "execution_count": null,
   "metadata": {},
   "outputs": [],
   "source": []
  }
 ],
 "metadata": {
  "kernelspec": {
   "display_name": "Python 3",
   "language": "python",
   "name": "python3"
  },
  "language_info": {
   "codemirror_mode": {
    "name": "ipython",
    "version": 3
   },
   "file_extension": ".py",
   "mimetype": "text/x-python",
   "name": "python",
   "nbconvert_exporter": "python",
   "pygments_lexer": "ipython3",
   "version": "3.10.8"
  }
 },
 "nbformat": 4,
 "nbformat_minor": 2
}
